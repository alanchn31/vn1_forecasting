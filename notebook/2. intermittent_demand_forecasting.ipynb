{
 "cells": [
  {
   "cell_type": "code",
   "execution_count": 230,
   "metadata": {},
   "outputs": [],
   "source": [
    "import datetime\n",
    "import functools\n",
    "import pandas as pd\n",
    "import numpy as np\n",
    "import matplotlib.pyplot as plt\n",
    "from lightgbm import LGBMRegressor\n",
    "from mlforecast import MLForecast\n",
    "from mlforecast.lag_transforms import RollingMean"
   ]
  },
  {
   "cell_type": "code",
   "execution_count": 3,
   "metadata": {},
   "outputs": [],
   "source": [
    "# CONFIG\n",
    "\n",
    "# NUM_CPU_CORES = multiprocessing.cpu_count()\n",
    "# Forecast 13 weeks ahead into the future\n",
    "FORECAST_PERIOD = 13\n",
    "TARGET_COL = 'sales_qty'\n",
    "RANDOM_SEED = 123"
   ]
  },
  {
   "cell_type": "code",
   "execution_count": 4,
   "metadata": {},
   "outputs": [],
   "source": [
    "sales_df = pd.read_csv(\"../data/phase0_sales.csv\")\n",
    "list_columns = list(sales_df.columns)\n",
    "list_dates_columns = list_columns[3:]\n",
    "\n",
    "# Unpivot to get flat format dataframe\n",
    "sales_df = sales_df.melt(id_vars=['Client', 'Warehouse', 'Product'], var_name='date_key', \n",
    "                         value_vars=list_dates_columns, value_name=TARGET_COL)\n",
    "\n",
    "\n",
    "# Create new delimiter column to form unique identifier\n",
    "sales_df['item_id'] = sales_df[['Client', 'Warehouse', 'Product']].apply(lambda row: '_'.join(row.values.astype(str)), axis=1)\n",
    "sales_df['date_key'] = pd.to_datetime(sales_df['date_key']).dt.date"
   ]
  },
  {
   "cell_type": "code",
   "execution_count": 8,
   "metadata": {},
   "outputs": [],
   "source": [
    "def remove_leading_zeros(df):\n",
    "    df = df.sort_values(by=['item_id', 'date_key'], ascending=True, ignore_index=True)\n",
    "    df.loc[:, TARGET_COL] = df[TARGET_COL].fillna(0)\n",
    "    return df[df.groupby('item_id')[TARGET_COL].cumsum().gt(0)]\n",
    "\n",
    "preprocessed_df = remove_leading_zeros(sales_df)"
   ]
  },
  {
   "cell_type": "code",
   "execution_count": 9,
   "metadata": {},
   "outputs": [],
   "source": [
    "def label_demand_type(ts_series):\n",
    "    '''\n",
    "    Returns a string indication the time series classification of a series\n",
    "    There are 5 possible labels, 'Unknown', 'Intermittent', 'Lumpy', 'Smooth', 'Erratic'\n",
    "        Parameters:\n",
    "            1. ts_series: A pandas series containing time series to be classified\n",
    "\n",
    "        Returns:\n",
    "            ts_label: Time series label\n",
    "    '''\n",
    "    if any(ts_series.isna()):\n",
    "        return \"Unknown\"\n",
    "    \n",
    "    length = ts_series['length']\n",
    "    summed = ts_series['summed']\n",
    "    std = ts_series['std']\n",
    "    mean = ts_series['mean']\n",
    "    \n",
    "    if summed == 0 or mean == 0:\n",
    "        ts_label = \"Unknown\"\n",
    "    else:\n",
    "        adi = length/summed\n",
    "        cv2 = std/mean\n",
    "        if adi >= 1.32:\n",
    "            if cv2 < 0.49:\n",
    "                ts_label = \"Intermittent\"\n",
    "            else:\n",
    "                ts_label = \"Lumpy\"\n",
    "        elif cv2 < 0.49:\n",
    "            ts_label = \"Smooth\"\n",
    "        else:\n",
    "            ts_label = \"Erratic\"\n",
    "    return ts_label\n",
    "\n",
    "def get_demand_type_flag(df, \n",
    "                         target_col, \n",
    "                         idx_cols, \n",
    "                         output_col) -> pd.DataFrame:\n",
    "    '''\n",
    "    Returns a dataframe containing time series classifications based on volatility and intermittency\n",
    "    There are 5 possible labels, 'Unknown', 'Intermittent', 'Lumpy', 'Smooth', 'Erratic'\n",
    "        Parameters:\n",
    "            1. df: A grouped pandas dataframe to apply evaluation on\n",
    "            2. target_col: Name of target col to do time series classification\n",
    "            3. idx_cols: List of columns to aggregate against before ts classification\n",
    "                                     (for eg: ['product_id', 'warehouse_id'])\n",
    "            4. output_col: Name of output column containing flag generated\n",
    "\n",
    "        Returns:\n",
    "            df_result: Dataframe containing time series classification results\n",
    "    '''\n",
    "    df_agg = df.groupby(idx_cols).agg(\n",
    "        length = (target_col, lambda x : len(x)),\n",
    "        summed = (target_col, lambda x : sum(x > 0)),\n",
    "        std = (target_col, lambda x : (x[x>0].std(ddof = 0))),\n",
    "        mean = (target_col, lambda x : x[x>0].mean())\n",
    "    )\n",
    "    df_agg[output_col] = df_agg.apply(label_demand_type, axis = 1)\n",
    "    df_result = df_agg.reset_index()[idx_cols + [output_col]]\n",
    "    return df_result\n",
    "\n",
    "demand_type_df = get_demand_type_flag(preprocessed_df, TARGET_COL, ['item_id'], 'demand_type')"
   ]
  },
  {
   "cell_type": "code",
   "execution_count": 11,
   "metadata": {},
   "outputs": [],
   "source": [
    "sales_df = sales_df.merge(demand_type_df, on='item_id', how='left')\n",
    "interm_sales_df = sales_df.query(\"demand_type.isin(['Intermittent', 'Lumpy'])\")"
   ]
  },
  {
   "cell_type": "code",
   "execution_count": 86,
   "metadata": {},
   "outputs": [],
   "source": [
    "def global_lgbm_forecast(sales_df, forecast_periods, objective='regression', mode='recursive'):\n",
    "    mlf_sales_df = sales_df[['item_id', 'date_key', 'sales_qty']].copy()\n",
    "\n",
    "    mlf_sales_df.rename(columns={\n",
    "        'item_id': 'unique_id',\n",
    "        'date_key': 'ds',\n",
    "        'sales_qty' :'y',\n",
    "    }, inplace=True)\n",
    "\n",
    "    mlf_sales_df['ds'] = pd.to_datetime(mlf_sales_df['ds']) \n",
    "\n",
    "    # By default, mlforecast does forecasts recursively\n",
    "\n",
    "    forecaster = MLForecast(\n",
    "        models=LGBMRegressor(random_state=0, verbosity=-1, objective=objective),\n",
    "        freq='W-MON',\n",
    "        lags=[1,2,3,4,5],\n",
    "        lag_transforms={\n",
    "            1: [RollingMean(window_size=3), RollingMean(window_size=5), RollingMean(window_size=7)],\n",
    "        },\n",
    "        num_threads=1\n",
    "    )\n",
    "\n",
    "    if mode == 'direct':\n",
    "        fitted_forecaster = forecaster.fit(mlf_sales_df, max_horizon=forecast_periods)\n",
    "    elif mode == 'recursive':\n",
    "        fitted_forecaster = forecaster.fit(mlf_sales_df)\n",
    "    else:\n",
    "        raise Exception(\"mode can only be 'recursive' or 'direct'\")\n",
    "    \n",
    "    forecasts_df = fitted_forecaster.predict(forecast_periods)\n",
    "    forecasts_df.rename(columns={\n",
    "        'unique_id': 'item_id',\n",
    "        'ds': 'date_key',\n",
    "        'LGBMRegressor': 'forecast'\n",
    "    }, inplace=True)\n",
    "    forecasts_df['date_key'] = pd.to_datetime(forecasts_df['date_key']).dt.date\n",
    "    return forecasts_df\n",
    "\n",
    "global_lgbm_direct_l2_forecasts = global_lgbm_forecast(interm_sales_df, FORECAST_PERIOD, objective='regression', mode='direct')\n",
    "global_lgbm_direct_tweedie_forecasts = global_lgbm_forecast(interm_sales_df, FORECAST_PERIOD, objective='tweedie', mode='direct')\n",
    "global_lgbm_recur_l2_forecasts = global_lgbm_forecast(interm_sales_df, FORECAST_PERIOD, objective='regression', mode='recursive')\n",
    "global_lgbm_recur_tweedie_forecasts = global_lgbm_forecast(interm_sales_df, FORECAST_PERIOD, objective='tweedie', mode='recursive')"
   ]
  },
  {
   "cell_type": "code",
   "execution_count": 94,
   "metadata": {},
   "outputs": [],
   "source": [
    "global_forecasts_lst = [global_lgbm_direct_l2_forecasts, global_lgbm_direct_tweedie_forecasts, global_lgbm_recur_l2_forecasts, \n",
    "                               global_lgbm_recur_tweedie_forecasts]\n",
    "\n",
    "\n",
    "global_lgbm_direct_l2_forecasts.rename(columns={'forecast': 'global_direct_lgb_l2'}, inplace=True)\n",
    "global_lgbm_direct_tweedie_forecasts.rename(columns={'forecast': 'global_direct_lgb_tweedie'}, inplace=True)\n",
    "global_lgbm_recur_l2_forecasts.rename(columns={'forecast': 'global_recur_lgb_l2'}, inplace=True)\n",
    "global_lgbm_recur_tweedie_forecasts.rename(columns={'forecast': 'global_recur_lgb_tweedie'}, inplace=True)\n",
    "\n",
    "global_forecasts_df = functools.reduce(lambda df1,df2: pd.merge(df1,df2,on=['item_id', 'date_key']), global_forecasts_lst)"
   ]
  },
  {
   "cell_type": "code",
   "execution_count": 269,
   "metadata": {},
   "outputs": [],
   "source": [
    "global_lgbm_direct_l2_forecasts.to_csv(\"../predictions/global_lgbm_direct_l2.csv\", index=False)\n",
    "global_lgbm_direct_tweedie_forecasts.to_csv(\"../predictions/global_lgbm_direct_tweedie.csv\", index=False)\n",
    "global_lgbm_recur_l2_forecasts.to_csv(\"../predictions/global_lgbm_recursive_l2.csv\", index=False)\n",
    "global_lgbm_recur_tweedie_forecasts.to_csv(\"../predictions/global_lgbm_recursive_tweedie.csv\", index=False)"
   ]
  },
  {
   "cell_type": "code",
   "execution_count": 109,
   "metadata": {},
   "outputs": [],
   "source": [
    "forecast_result_baseline_lkv = pd.read_csv(\"../predictions/baseline_lkv.csv\")\n",
    "forecast_result_baseline_ma3 = pd.read_csv(\"../predictions/baseline_ma3.csv\")\n",
    "forecast_result_baseline_lkv.rename(columns={'forecast': 'forecast_lkv'}, inplace=True)\n",
    "forecast_result_baseline_ma3.rename(columns={'forecast': 'forecast_ma3'}, inplace=True)\n",
    "forecast_result_baseline_lkv['date_key'] = pd.to_datetime(forecast_result_baseline_lkv['date_key']).dt.date\n",
    "forecast_result_baseline_ma3['date_key'] = pd.to_datetime(forecast_result_baseline_ma3['date_key']).dt.date"
   ]
  },
  {
   "cell_type": "code",
   "execution_count": 111,
   "metadata": {},
   "outputs": [],
   "source": [
    "compiled_forecasts = (global_forecasts_df.merge(forecast_result_baseline_lkv, on=['item_id', 'date_key'])\n",
    "                                         .merge(forecast_result_baseline_ma3, on=['item_id', 'date_key'])\n",
    ")"
   ]
  },
  {
   "cell_type": "code",
   "execution_count": 112,
   "metadata": {},
   "outputs": [],
   "source": [
    "test_labels_df = pd.read_csv(\"../data/phase1_sales.csv\")\n",
    "list_columns = list(test_labels_df.columns)\n",
    "list_dates_columns = list_columns[3:]\n",
    "\n",
    "# Unpivot to get flat format dataframe\n",
    "test_labels_df = test_labels_df.melt(id_vars=['Client', 'Warehouse', 'Product'], var_name='date_key', \n",
    "                                     value_vars=list_dates_columns, value_name=TARGET_COL)\n",
    "\n",
    "# Create new delimiter column to form unique identifier\n",
    "test_labels_df['item_id'] = test_labels_df[['Client', 'Warehouse', 'Product']].apply(lambda row: '_'.join(row.values.astype(str)), axis=1)\n",
    "test_labels_df['date_key'] = pd.to_datetime(test_labels_df['date_key']).dt.date\n",
    "test_labels_df = test_labels_df[['item_id', 'date_key', 'sales_qty']]"
   ]
  },
  {
   "cell_type": "code",
   "execution_count": 113,
   "metadata": {},
   "outputs": [],
   "source": [
    "merged_forecasts_labels = test_labels_df.merge(compiled_forecasts, on=['item_id', 'date_key'])\n"
   ]
  },
  {
   "cell_type": "code",
   "execution_count": 135,
   "metadata": {},
   "outputs": [],
   "source": [
    "def evaluate_wape(targets, predictions):\n",
    "    '''\n",
    "    Returns a WAPE value (Weighted Average Percentage Error)\n",
    "        Parameters:\n",
    "            1. targets: A numpy array containing target values\n",
    "            2. predictions: A numpy array containing forecasts\n",
    "\n",
    "        Returns:\n",
    "            wape: WAPE of predictions vs targets\n",
    "    '''\n",
    "    resids_summed = np.sum(abs(targets-predictions))\n",
    "    targets_summed = np.sum(targets)\n",
    "    if targets_summed == 0:\n",
    "        return np.nan\n",
    "    wape = resids_summed/targets_summed\n",
    "    return wape\n",
    "\n",
    "def evaluate_pwape(targets, predictions):\n",
    "    '''\n",
    "    Returns a pWAPE value (positive Weighted Average Percentage Error)\n",
    "        Parameters:\n",
    "            1. targets: A numpy array containing target values\n",
    "            2. predictions: A numpy array containing forecasts\n",
    "\n",
    "        Returns:\n",
    "            pwape: pWAPE of predictions vs targets\n",
    "    '''\n",
    "    resids_summed = np.sum(np.clip(predictions - targets, 0, None))\n",
    "    targets_summed = np.sum(targets)\n",
    "    if targets_summed == 0:\n",
    "        return np.nan\n",
    "    pwape = resids_summed/targets_summed\n",
    "    return pwape\n",
    "\n",
    "def evaluate_nwape(targets, predictions):\n",
    "    '''\n",
    "    Returns a nWAPE value (negative Weighted Average Percentage Error)\n",
    "        Parameters:\n",
    "            1. targets: A numpy array containing target values\n",
    "            2. predictions: A numpy array containing forecasts\n",
    "\n",
    "        Returns:\n",
    "            nwape: nWAPE of predictions vs targets\n",
    "    '''\n",
    "    resids_summed = np.sum(np.clip(targets - predictions, 0, None))\n",
    "    targets_summed = np.sum(targets)\n",
    "    if targets_summed == 0:\n",
    "        return np.nan\n",
    "    nwape = resids_summed/targets_summed\n",
    "    return nwape"
   ]
  },
  {
   "cell_type": "code",
   "execution_count": 115,
   "metadata": {},
   "outputs": [],
   "source": [
    "class Evaluator:\n",
    "    def __init__(self, df, prediction_cols, \n",
    "                 group_cols_lst, \n",
    "                 target_col,\n",
    "                 eval_funcs):\n",
    "        '''\n",
    "        Parameters:\n",
    "                1. df: A pandas dataframe to apply evaluation on\n",
    "                2. prediction_cols: A list of column names containing predictions to evaluate\n",
    "                3. group_cols_lst: A list of column names to act as index to aggregate evaluation results against\n",
    "                4. target_col: Name of target col to evaluate against\n",
    "                5. eval_func: Evaluation function to apply on predictions and target col\n",
    "\n",
    "        '''\n",
    "        self.df = df\n",
    "        self.prediction_cols = prediction_cols\n",
    "        self.group_cols_lst = group_cols_lst\n",
    "        self.target_col = target_col\n",
    "        self.eval_funcs = eval_funcs\n",
    "\n",
    "    @staticmethod\n",
    "    def evaluate_predictions(df, prediction_cols, \n",
    "                         target_col, eval_func):\n",
    "        '''\n",
    "        Returns a dataframe containing evaluation results of indicated prediction_cols vs target col\n",
    "            Parameters:\n",
    "                1. df: A grouped pandas dataframe to apply evaluation on\n",
    "                2. prediction_cols: A list of column names containing predictions to evaluate\n",
    "                3. target_col: Name of target col to evaluate against\n",
    "                4. eval_func: Evaluation function to apply on predictions and target col\n",
    "\n",
    "            Returns:\n",
    "                results_df: Dataframe containing evaluation results\n",
    "        '''\n",
    "        out = []\n",
    "        pred_cols = []\n",
    "        for col in prediction_cols:\n",
    "            out.append(eval_func(df[target_col], df[col]))\n",
    "            pred_cols.append(col)\n",
    "\n",
    "        results_df = pd.DataFrame({'eval_value': out, 'prediction_type': pred_cols})\n",
    "        return results_df\n",
    "\n",
    "\n",
    "    def evaluate(self):\n",
    "        '''\n",
    "        Returns a dataframe containing evaluation results of indicated prediction_cols vs target col\n",
    "            Returns:\n",
    "                eval_df: Dataframe containing evaluation results\n",
    "        '''\n",
    "        eval_dfs_lst = []\n",
    "        for eval_func in self.eval_funcs:\n",
    "            eval_df = pd.DataFrame(self.df.groupby(self.group_cols_lst)\n",
    "                                          .apply(lambda x : Evaluator.evaluate_predictions(x, self.prediction_cols,\n",
    "                                                                                 self.target_col, \n",
    "                                                                                 eval_func))).reset_index()\n",
    "            eval_df['eval_function'] = eval_func.__name__\n",
    "            \n",
    "            eval_dfs_lst.append(eval_df)\n",
    "        eval_final_df = pd.concat(eval_dfs_lst)\n",
    "        eval_final_df.sort_values(by=self.group_cols_lst, inplace=True)\n",
    "        eval_final_df = eval_final_df[self.group_cols_lst + ['prediction_type', 'eval_function', 'eval_value']]\n",
    "        return eval_final_df"
   ]
  },
  {
   "cell_type": "code",
   "execution_count": 121,
   "metadata": {},
   "outputs": [],
   "source": [
    "merged_forecasts_labels['forecast_ens_global_lgb_l2'] = merged_forecasts_labels[['global_direct_lgb_l2', 'global_recur_lgb_l2']].mean(axis=1)\n",
    "merged_forecasts_labels['forecast_ens_global_lgb_tweedie'] = merged_forecasts_labels[['global_direct_lgb_tweedie', 'global_recur_lgb_tweedie']].mean(axis=1)\n",
    "merged_forecasts_labels['forecast_ens_global_lgb'] = merged_forecasts_labels[['global_direct_lgb_l2','global_direct_lgb_tweedie', \n",
    "                                                                              'global_recur_lgb_l2', 'global_recur_lgb_tweedie']].mean(axis=1)\n",
    "merged_forecasts_labels['forecast_ens_baseline_global_lgb'] = merged_forecasts_labels[['global_direct_lgb_l2','global_direct_lgb_tweedie', \n",
    "                                                                                       'global_recur_lgb_l2', 'global_recur_lgb_tweedie', \n",
    "                                                                                       'forecast_lkv', 'forecast_ma3']].mean(axis=1)"
   ]
  },
  {
   "cell_type": "code",
   "execution_count": 127,
   "metadata": {},
   "outputs": [],
   "source": [
    "FORECAST_COLS = ['global_direct_lgb_l2','global_direct_lgb_tweedie', \n",
    "                'global_recur_lgb_l2', 'global_recur_lgb_tweedie', \n",
    "                'forecast_lkv', 'forecast_ma3', 'forecast_ens_global_lgb_l2',\n",
    "                'forecast_ens_global_lgb_tweedie', 'forecast_ens_global_lgb',\n",
    "                'forecast_ens_baseline_global_lgb']"
   ]
  },
  {
   "cell_type": "code",
   "execution_count": 182,
   "metadata": {},
   "outputs": [],
   "source": [
    "merged_forecasts_labels[FORECAST_COLS] = merged_forecasts_labels[FORECAST_COLS].clip(lower=0)"
   ]
  },
  {
   "cell_type": "code",
   "execution_count": 183,
   "metadata": {},
   "outputs": [
    {
     "name": "stderr",
     "output_type": "stream",
     "text": [
      "/var/folders/hj/c0k0z_096_n1727t5kbgcvxm0000gn/T/ipykernel_85079/3134212166.py:53: DeprecationWarning: DataFrameGroupBy.apply operated on the grouping columns. This behavior is deprecated, and in a future version of pandas the grouping columns will be excluded from the operation. Either pass `include_groups=False` to exclude the groupings or explicitly select the grouping columns after groupby to silence this warning.\n",
      "  eval_df = pd.DataFrame(self.df.groupby(self.group_cols_lst)\n",
      "/var/folders/hj/c0k0z_096_n1727t5kbgcvxm0000gn/T/ipykernel_85079/3134212166.py:53: DeprecationWarning: DataFrameGroupBy.apply operated on the grouping columns. This behavior is deprecated, and in a future version of pandas the grouping columns will be excluded from the operation. Either pass `include_groups=False` to exclude the groupings or explicitly select the grouping columns after groupby to silence this warning.\n",
      "  eval_df = pd.DataFrame(self.df.groupby(self.group_cols_lst)\n",
      "/var/folders/hj/c0k0z_096_n1727t5kbgcvxm0000gn/T/ipykernel_85079/3134212166.py:53: DeprecationWarning: DataFrameGroupBy.apply operated on the grouping columns. This behavior is deprecated, and in a future version of pandas the grouping columns will be excluded from the operation. Either pass `include_groups=False` to exclude the groupings or explicitly select the grouping columns after groupby to silence this warning.\n",
      "  eval_df = pd.DataFrame(self.df.groupby(self.group_cols_lst)\n"
     ]
    }
   ],
   "source": [
    "## Create a dummy column for overall evaluation:\n",
    "merged_forecasts_labels['segment'] = 'ALL'\n",
    "\n",
    "evaluator = Evaluator(merged_forecasts_labels, \n",
    "                     FORECAST_COLS,\n",
    "                     ['segment'],\n",
    "                     'sales_qty', [evaluate_wape, evaluate_pwape, evaluate_nwape])\n",
    "eval_report = evaluator.evaluate()"
   ]
  },
  {
   "cell_type": "code",
   "execution_count": 186,
   "metadata": {},
   "outputs": [
    {
     "data": {
      "text/html": [
       "<div>\n",
       "<style scoped>\n",
       "    .dataframe tbody tr th:only-of-type {\n",
       "        vertical-align: middle;\n",
       "    }\n",
       "\n",
       "    .dataframe tbody tr th {\n",
       "        vertical-align: top;\n",
       "    }\n",
       "\n",
       "    .dataframe thead th {\n",
       "        text-align: right;\n",
       "    }\n",
       "</style>\n",
       "<table border=\"1\" class=\"dataframe\">\n",
       "  <thead>\n",
       "    <tr style=\"text-align: right;\">\n",
       "      <th></th>\n",
       "      <th>segment</th>\n",
       "      <th>prediction_type</th>\n",
       "      <th>eval_function</th>\n",
       "      <th>eval_value</th>\n",
       "    </tr>\n",
       "  </thead>\n",
       "  <tbody>\n",
       "    <tr>\n",
       "      <th>0</th>\n",
       "      <td>ALL</td>\n",
       "      <td>global_direct_lgb_l2</td>\n",
       "      <td>evaluate_wape</td>\n",
       "      <td>0.800368</td>\n",
       "    </tr>\n",
       "    <tr>\n",
       "      <th>9</th>\n",
       "      <td>ALL</td>\n",
       "      <td>forecast_ens_baseline_global_lgb</td>\n",
       "      <td>evaluate_wape</td>\n",
       "      <td>0.777244</td>\n",
       "    </tr>\n",
       "    <tr>\n",
       "      <th>8</th>\n",
       "      <td>ALL</td>\n",
       "      <td>forecast_ens_global_lgb</td>\n",
       "      <td>evaluate_wape</td>\n",
       "      <td>0.778059</td>\n",
       "    </tr>\n",
       "    <tr>\n",
       "      <th>7</th>\n",
       "      <td>ALL</td>\n",
       "      <td>forecast_ens_global_lgb_tweedie</td>\n",
       "      <td>evaluate_wape</td>\n",
       "      <td>0.772713</td>\n",
       "    </tr>\n",
       "    <tr>\n",
       "      <th>6</th>\n",
       "      <td>ALL</td>\n",
       "      <td>forecast_ens_global_lgb_l2</td>\n",
       "      <td>evaluate_wape</td>\n",
       "      <td>0.786617</td>\n",
       "    </tr>\n",
       "    <tr>\n",
       "      <th>5</th>\n",
       "      <td>ALL</td>\n",
       "      <td>forecast_ma3</td>\n",
       "      <td>evaluate_wape</td>\n",
       "      <td>0.799569</td>\n",
       "    </tr>\n",
       "    <tr>\n",
       "      <th>4</th>\n",
       "      <td>ALL</td>\n",
       "      <td>forecast_lkv</td>\n",
       "      <td>evaluate_wape</td>\n",
       "      <td>0.808897</td>\n",
       "    </tr>\n",
       "    <tr>\n",
       "      <th>3</th>\n",
       "      <td>ALL</td>\n",
       "      <td>global_recur_lgb_tweedie</td>\n",
       "      <td>evaluate_wape</td>\n",
       "      <td>0.786267</td>\n",
       "    </tr>\n",
       "    <tr>\n",
       "      <th>2</th>\n",
       "      <td>ALL</td>\n",
       "      <td>global_recur_lgb_l2</td>\n",
       "      <td>evaluate_wape</td>\n",
       "      <td>0.786237</td>\n",
       "    </tr>\n",
       "    <tr>\n",
       "      <th>1</th>\n",
       "      <td>ALL</td>\n",
       "      <td>global_direct_lgb_tweedie</td>\n",
       "      <td>evaluate_wape</td>\n",
       "      <td>0.767126</td>\n",
       "    </tr>\n",
       "  </tbody>\n",
       "</table>\n",
       "</div>"
      ],
      "text/plain": [
       "  segment                   prediction_type  eval_function  eval_value\n",
       "0     ALL              global_direct_lgb_l2  evaluate_wape    0.800368\n",
       "9     ALL  forecast_ens_baseline_global_lgb  evaluate_wape    0.777244\n",
       "8     ALL           forecast_ens_global_lgb  evaluate_wape    0.778059\n",
       "7     ALL   forecast_ens_global_lgb_tweedie  evaluate_wape    0.772713\n",
       "6     ALL        forecast_ens_global_lgb_l2  evaluate_wape    0.786617\n",
       "5     ALL                      forecast_ma3  evaluate_wape    0.799569\n",
       "4     ALL                      forecast_lkv  evaluate_wape    0.808897\n",
       "3     ALL          global_recur_lgb_tweedie  evaluate_wape    0.786267\n",
       "2     ALL               global_recur_lgb_l2  evaluate_wape    0.786237\n",
       "1     ALL         global_direct_lgb_tweedie  evaluate_wape    0.767126"
      ]
     },
     "execution_count": 186,
     "metadata": {},
     "output_type": "execute_result"
    }
   ],
   "source": [
    "eval_report.query(\"eval_function == 'evaluate_wape'\")"
   ]
  },
  {
   "cell_type": "code",
   "execution_count": 187,
   "metadata": {},
   "outputs": [
    {
     "data": {
      "text/html": [
       "<div>\n",
       "<style scoped>\n",
       "    .dataframe tbody tr th:only-of-type {\n",
       "        vertical-align: middle;\n",
       "    }\n",
       "\n",
       "    .dataframe tbody tr th {\n",
       "        vertical-align: top;\n",
       "    }\n",
       "\n",
       "    .dataframe thead th {\n",
       "        text-align: right;\n",
       "    }\n",
       "</style>\n",
       "<table border=\"1\" class=\"dataframe\">\n",
       "  <thead>\n",
       "    <tr style=\"text-align: right;\">\n",
       "      <th></th>\n",
       "      <th>segment</th>\n",
       "      <th>prediction_type</th>\n",
       "      <th>eval_function</th>\n",
       "      <th>eval_value</th>\n",
       "    </tr>\n",
       "  </thead>\n",
       "  <tbody>\n",
       "    <tr>\n",
       "      <th>9</th>\n",
       "      <td>ALL</td>\n",
       "      <td>forecast_ens_baseline_global_lgb</td>\n",
       "      <td>evaluate_pwape</td>\n",
       "      <td>0.279705</td>\n",
       "    </tr>\n",
       "    <tr>\n",
       "      <th>9</th>\n",
       "      <td>ALL</td>\n",
       "      <td>forecast_ens_baseline_global_lgb</td>\n",
       "      <td>evaluate_wape</td>\n",
       "      <td>0.777244</td>\n",
       "    </tr>\n",
       "    <tr>\n",
       "      <th>9</th>\n",
       "      <td>ALL</td>\n",
       "      <td>forecast_ens_baseline_global_lgb</td>\n",
       "      <td>evaluate_nwape</td>\n",
       "      <td>0.497539</td>\n",
       "    </tr>\n",
       "  </tbody>\n",
       "</table>\n",
       "</div>"
      ],
      "text/plain": [
       "  segment                   prediction_type   eval_function  eval_value\n",
       "9     ALL  forecast_ens_baseline_global_lgb  evaluate_pwape    0.279705\n",
       "9     ALL  forecast_ens_baseline_global_lgb   evaluate_wape    0.777244\n",
       "9     ALL  forecast_ens_baseline_global_lgb  evaluate_nwape    0.497539"
      ]
     },
     "execution_count": 187,
     "metadata": {},
     "output_type": "execute_result"
    }
   ],
   "source": [
    "eval_report.query(\"prediction_type == 'forecast_ens_baseline_global_lgb'\")"
   ]
  },
  {
   "cell_type": "code",
   "execution_count": 188,
   "metadata": {},
   "outputs": [
    {
     "name": "stderr",
     "output_type": "stream",
     "text": [
      "/var/folders/hj/c0k0z_096_n1727t5kbgcvxm0000gn/T/ipykernel_85079/3134212166.py:53: DeprecationWarning: DataFrameGroupBy.apply operated on the grouping columns. This behavior is deprecated, and in a future version of pandas the grouping columns will be excluded from the operation. Either pass `include_groups=False` to exclude the groupings or explicitly select the grouping columns after groupby to silence this warning.\n",
      "  eval_df = pd.DataFrame(self.df.groupby(self.group_cols_lst)\n",
      "/var/folders/hj/c0k0z_096_n1727t5kbgcvxm0000gn/T/ipykernel_85079/3134212166.py:53: DeprecationWarning: DataFrameGroupBy.apply operated on the grouping columns. This behavior is deprecated, and in a future version of pandas the grouping columns will be excluded from the operation. Either pass `include_groups=False` to exclude the groupings or explicitly select the grouping columns after groupby to silence this warning.\n",
      "  eval_df = pd.DataFrame(self.df.groupby(self.group_cols_lst)\n",
      "/var/folders/hj/c0k0z_096_n1727t5kbgcvxm0000gn/T/ipykernel_85079/3134212166.py:53: DeprecationWarning: DataFrameGroupBy.apply operated on the grouping columns. This behavior is deprecated, and in a future version of pandas the grouping columns will be excluded from the operation. Either pass `include_groups=False` to exclude the groupings or explicitly select the grouping columns after groupby to silence this warning.\n",
      "  eval_df = pd.DataFrame(self.df.groupby(self.group_cols_lst)\n"
     ]
    }
   ],
   "source": [
    "merged_forecasts_labels_rounded = merged_forecasts_labels.copy()\n",
    "merged_forecasts_labels_rounded[FORECAST_COLS] = merged_forecasts_labels_rounded[FORECAST_COLS].round()\n",
    "\n",
    "## Create a dummy column for overall evaluation:\n",
    "merged_forecasts_labels_rounded['segment'] = 'ALL'\n",
    "\n",
    "evaluator = Evaluator(merged_forecasts_labels_rounded, \n",
    "                     FORECAST_COLS,\n",
    "                     ['segment'],\n",
    "                     'sales_qty', [evaluate_wape, evaluate_pwape, evaluate_nwape])\n",
    "eval_report_rounded_fcasts = evaluator.evaluate()"
   ]
  },
  {
   "cell_type": "code",
   "execution_count": 264,
   "metadata": {},
   "outputs": [
    {
     "data": {
      "text/html": [
       "<div>\n",
       "<style scoped>\n",
       "    .dataframe tbody tr th:only-of-type {\n",
       "        vertical-align: middle;\n",
       "    }\n",
       "\n",
       "    .dataframe tbody tr th {\n",
       "        vertical-align: top;\n",
       "    }\n",
       "\n",
       "    .dataframe thead th {\n",
       "        text-align: right;\n",
       "    }\n",
       "</style>\n",
       "<table border=\"1\" class=\"dataframe\">\n",
       "  <thead>\n",
       "    <tr style=\"text-align: right;\">\n",
       "      <th></th>\n",
       "      <th>segment</th>\n",
       "      <th>prediction_type</th>\n",
       "      <th>eval_function</th>\n",
       "      <th>eval_value</th>\n",
       "    </tr>\n",
       "  </thead>\n",
       "  <tbody>\n",
       "    <tr>\n",
       "      <th>0</th>\n",
       "      <td>ALL</td>\n",
       "      <td>global_direct_lgb_l2</td>\n",
       "      <td>evaluate_wape</td>\n",
       "      <td>0.799712</td>\n",
       "    </tr>\n",
       "    <tr>\n",
       "      <th>3</th>\n",
       "      <td>ALL</td>\n",
       "      <td>global_recur_lgb_tweedie</td>\n",
       "      <td>evaluate_wape</td>\n",
       "      <td>0.819541</td>\n",
       "    </tr>\n",
       "    <tr>\n",
       "      <th>2</th>\n",
       "      <td>ALL</td>\n",
       "      <td>global_recur_lgb_l2</td>\n",
       "      <td>evaluate_wape</td>\n",
       "      <td>0.786432</td>\n",
       "    </tr>\n",
       "    <tr>\n",
       "      <th>1</th>\n",
       "      <td>ALL</td>\n",
       "      <td>global_direct_lgb_tweedie</td>\n",
       "      <td>evaluate_wape</td>\n",
       "      <td>0.758401</td>\n",
       "    </tr>\n",
       "  </tbody>\n",
       "</table>\n",
       "</div>"
      ],
      "text/plain": [
       "  segment            prediction_type  eval_function  eval_value\n",
       "0     ALL       global_direct_lgb_l2  evaluate_wape    0.799712\n",
       "3     ALL   global_recur_lgb_tweedie  evaluate_wape    0.819541\n",
       "2     ALL        global_recur_lgb_l2  evaluate_wape    0.786432\n",
       "1     ALL  global_direct_lgb_tweedie  evaluate_wape    0.758401"
      ]
     },
     "execution_count": 264,
     "metadata": {},
     "output_type": "execute_result"
    }
   ],
   "source": [
    "(eval_report_rounded_fcasts.query(\"eval_function == 'evaluate_wape'\")\n",
    "                            .query(\"prediction_type.isin(['global_direct_lgb_l2', 'global_recur_lgb_l2', 'global_direct_lgb_tweedie', 'global_recur_lgb_tweedie'])\")\n",
    ")"
   ]
  },
  {
   "cell_type": "code",
   "execution_count": 143,
   "metadata": {},
   "outputs": [
    {
     "data": {
      "text/html": [
       "<div>\n",
       "<style scoped>\n",
       "    .dataframe tbody tr th:only-of-type {\n",
       "        vertical-align: middle;\n",
       "    }\n",
       "\n",
       "    .dataframe tbody tr th {\n",
       "        vertical-align: top;\n",
       "    }\n",
       "\n",
       "    .dataframe thead th {\n",
       "        text-align: right;\n",
       "    }\n",
       "</style>\n",
       "<table border=\"1\" class=\"dataframe\">\n",
       "  <thead>\n",
       "    <tr style=\"text-align: right;\">\n",
       "      <th></th>\n",
       "      <th>segment</th>\n",
       "      <th>prediction_type</th>\n",
       "      <th>eval_function</th>\n",
       "      <th>eval_value</th>\n",
       "    </tr>\n",
       "  </thead>\n",
       "  <tbody>\n",
       "    <tr>\n",
       "      <th>9</th>\n",
       "      <td>ALL</td>\n",
       "      <td>forecast_ens_baseline_global_lgb</td>\n",
       "      <td>evaluate_pwape</td>\n",
       "      <td>0.245922</td>\n",
       "    </tr>\n",
       "    <tr>\n",
       "      <th>9</th>\n",
       "      <td>ALL</td>\n",
       "      <td>forecast_ens_baseline_global_lgb</td>\n",
       "      <td>evaluate_wape</td>\n",
       "      <td>0.743951</td>\n",
       "    </tr>\n",
       "    <tr>\n",
       "      <th>9</th>\n",
       "      <td>ALL</td>\n",
       "      <td>forecast_ens_baseline_global_lgb</td>\n",
       "      <td>evaluate_nwape</td>\n",
       "      <td>0.498029</td>\n",
       "    </tr>\n",
       "  </tbody>\n",
       "</table>\n",
       "</div>"
      ],
      "text/plain": [
       "  segment                   prediction_type   eval_function  eval_value\n",
       "9     ALL  forecast_ens_baseline_global_lgb  evaluate_pwape    0.245922\n",
       "9     ALL  forecast_ens_baseline_global_lgb   evaluate_wape    0.743951\n",
       "9     ALL  forecast_ens_baseline_global_lgb  evaluate_nwape    0.498029"
      ]
     },
     "execution_count": 143,
     "metadata": {},
     "output_type": "execute_result"
    }
   ],
   "source": [
    "eval_report_rounded_fcasts.query(\"prediction_type == 'forecast_ens_baseline_global_lgb'\")"
   ]
  },
  {
   "cell_type": "code",
   "execution_count": 190,
   "metadata": {},
   "outputs": [],
   "source": [
    "for fc in FORECAST_COLS:\n",
    "    col_sub_strs = fc.split(\"_\")\n",
    "    model = '_'.join(col_sub_strs[1:])\n",
    "    merged_forecasts_labels[f'error_{model}'] = abs(merged_forecasts_labels['sales_qty'] - merged_forecasts_labels[fc])"
   ]
  },
  {
   "cell_type": "code",
   "execution_count": 191,
   "metadata": {},
   "outputs": [],
   "source": [
    "merged_forecasts_labels['global_direct_lgb_tweedie_rounded'] = merged_forecasts_labels['global_direct_lgb_tweedie'].round()\n",
    "merged_forecasts_labels[f'error_global_direct_lgb_tweedie_rounded'] = abs(merged_forecasts_labels['sales_qty'] - merged_forecasts_labels['global_direct_lgb_tweedie_rounded'])"
   ]
  },
  {
   "cell_type": "code",
   "execution_count": 192,
   "metadata": {},
   "outputs": [],
   "source": [
    "merged_forecasts_labels['error_diff_l2_tweedie'] = merged_forecasts_labels['error_direct_lgb_l2'] - merged_forecasts_labels['error_global_direct_lgb_tweedie_rounded']\n",
    "merged_forecasts_labels = merged_forecasts_labels.sort_values(by='error_diff_l2_tweedie', ascending=False)"
   ]
  },
  {
   "cell_type": "code",
   "execution_count": 193,
   "metadata": {},
   "outputs": [],
   "source": [
    "phase1_sales_df = merged_forecasts_labels[['item_id', 'date_key', 'sales_qty']]\n",
    "phase0_sales_df = preprocessed_df[['item_id', 'date_key', 'sales_qty']]\n",
    "comb_sales_df = pd.concat([phase0_sales_df, phase1_sales_df])"
   ]
  },
  {
   "cell_type": "code",
   "execution_count": 263,
   "metadata": {},
   "outputs": [
    {
     "name": "stderr",
     "output_type": "stream",
     "text": [
      "/var/folders/hj/c0k0z_096_n1727t5kbgcvxm0000gn/T/ipykernel_85079/3187350814.py:12: UserWarning: No artists with labels found to put in legend.  Note that artists whose label start with an underscore are ignored when legend() is called with no argument.\n",
      "  plt.legend()\n"
     ]
    },
    {
     "data": {
      "image/png": "[encoded data removed]",
      "text/plain": [
       "<Figure size 1000x600 with 1 Axes>"
      ]
     },
     "metadata": {},
     "output_type": "display_data"
    }
   ],
   "source": [
    "def visual_diagnostics_bar_chart(id, sales_df):\n",
    "    client, warehouse, product = id.split(\"_\")\n",
    "    item_hist_sales_df = sales_df.query(f\"item_id == '{id}'\")\n",
    "    item_sales_df = merged_forecasts_labels.query(f\"item_id == '{id}'\")\n",
    "    item_sales_df = pd.concat([item_hist_sales_df[['date_key', 'sales_qty']], \n",
    "                               item_sales_df[['date_key', 'sales_qty']]])\n",
    "    item_sales_df = item_sales_df.sort_values(by='date_key')\n",
    "\n",
    "    plt.figure(figsize=(10, 6))\n",
    "    plt.bar(item_sales_df['date_key'], item_sales_df['sales_qty'], width=5)\n",
    "    plt.title(f\"Example of intermittent sales of pattern\\n client: {client}, warehouse: {warehouse}, product: {product}: ({id})\")\n",
    "    plt.legend()\n",
    "\n",
    "visual_diagnostics_bar_chart('21_135_7572', comb_sales_df)"
   ]
  },
  {
   "cell_type": "code",
   "execution_count": 266,
   "metadata": {},
   "outputs": [
    {
     "data": {
      "image/png": "[encoded data removed]",
      "text/plain": [
       "<Figure size 1000x600 with 1 Axes>"
      ]
     },
     "metadata": {},
     "output_type": "display_data"
    }
   ],
   "source": [
    "def visual_diagnostics(id, sales_df, forecasts_df, forecast_cols):\n",
    "    client, warehouse, product = id.split(\"_\")\n",
    "    item_hist_sales_df = sales_df.query(f\"item_id == '{id}'\")\n",
    "    item_sales_df = merged_forecasts_labels.query(f\"item_id == '{id}'\")\n",
    "    item_sales_df = pd.concat([item_hist_sales_df[['date_key', 'sales_qty']], \n",
    "                               item_sales_df[['date_key', 'sales_qty']]])\n",
    "    item_forecasts_df = merged_forecasts_labels.query(f\"item_id == '{id}'\")\n",
    "    item_sales_df = item_sales_df.sort_values(by='date_key')\n",
    "    item_forecasts_df = item_forecasts_df.sort_values(by='date_key')\n",
    "\n",
    "    item_sales_df = item_sales_df.query(\"date_key >= datetime.date(2023,1,1)\")\n",
    "    plt.figure(figsize=(10, 6))\n",
    "    plt.plot(item_sales_df['date_key'], item_sales_df['sales_qty'])\n",
    "    for fc in forecast_cols:\n",
    "        plt.plot(item_forecasts_df['date_key'], item_forecasts_df[fc], label=fc)\n",
    "    plt.title(f\"Sales and Forecasts of client: {client}, warehouse: {warehouse}, product: {product}\")\n",
    "    plt.legend()\n",
    "\n",
    "visual_diagnostics('21_135_7572', sales_df, merged_forecasts_labels,  ['global_direct_lgb_l2', 'global_direct_lgb_tweedie_rounded'])"
   ]
  }
 ],
 "metadata": {
  "kernelspec": {
   "display_name": "vn1",
   "language": "python",
   "name": "vn1"
  },
  "language_info": {
   "codemirror_mode": {
    "name": "ipython",
    "version": 3
   },
   "file_extension": ".py",
   "mimetype": "text/x-python",
   "name": "python",
   "nbconvert_exporter": "python",
   "pygments_lexer": "ipython3",
   "version": "3.9.21"
  }
 },
 "nbformat": 4,
 "nbformat_minor": 2
}
